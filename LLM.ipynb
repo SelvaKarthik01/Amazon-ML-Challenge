{
 "cells": [
  {
   "cell_type": "code",
   "execution_count": null,
   "metadata": {},
   "outputs": [],
   "source": [
    "# Please `pip install transformers accelerate`\n",
    "from transformers import pipeline\n",
    "\n",
    "\n",
    "pipeline = pipeline(\n",
    "    \"text-generation\",\n",
    "    model=\"Nexusflow/NexusRaven-V2-13B\",\n",
    "    torch_dtype=\"auto\",\n",
    "    device_map=\"auto\",\n",
    ")\n",
    "\n",
    "prompt_template = \\\n",
    "'''\n",
    "Function:\n",
    "def get_weather_data(coordinates):\n",
    "    \"\"\"\n",
    "    Fetches weather data from the Open-Meteo API for the given latitude and longitude.\n",
    "\n",
    "    Args:\n",
    "    coordinates (tuple): The latitude of the location.\n",
    "\n",
    "    Returns:\n",
    "    float: The current temperature in the coordinates you've asked for\n",
    "    \"\"\"\n",
    "\n",
    "Function:\n",
    "def get_coordinates_from_city(city_name):\n",
    "    \"\"\"\n",
    "    Fetches the latitude and longitude of a given city name using the Maps.co Geocoding API.\n",
    "\n",
    "    Args:\n",
    "    city_name (str): The name of the city.\n",
    "\n",
    "    Returns:\n",
    "    tuple: The latitude and longitude of the city.\n",
    "    \"\"\"\n",
    "\n",
    "User Query: {query}<human_end>\n",
    "\n",
    "'''"
   ]
  },
  {
   "cell_type": "code",
   "execution_count": null,
   "metadata": {},
   "outputs": [],
   "source": [
    "prompt = prompt_template.format(query=\"What's the weather like in Seattle right now?\")"
   ]
  },
  {
   "cell_type": "code",
   "execution_count": null,
   "metadata": {},
   "outputs": [],
   "source": [
    "result = pipeline(prompt, max_new_tokens=2048, return_full_text=False, do_sample=False, temperature=0.001)[0][\"generated_text\"]\n",
    "print (result)"
   ]
  }
 ],
 "metadata": {
  "language_info": {
   "name": "python"
  }
 },
 "nbformat": 4,
 "nbformat_minor": 2
}
